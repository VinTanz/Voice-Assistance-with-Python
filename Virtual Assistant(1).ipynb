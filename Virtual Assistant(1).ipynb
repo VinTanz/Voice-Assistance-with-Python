{
 "cells": [
  {
   "cell_type": "code",
   "execution_count": 43,
   "id": "2b5294e5",
   "metadata": {},
   "outputs": [
    {
     "name": "stdout",
     "output_type": "stream",
     "text": [
      "<Voice id=HKEY_LOCAL_MACHINE\\SOFTWARE\\Microsoft\\Speech\\Voices\\Tokens\\TTS_MS_EN-US_DAVID_11.0\n",
      "          name=Microsoft David Desktop - English (United States)\n",
      "          languages=[]\n",
      "          gender=None\n",
      "          age=None>\n",
      "<Voice id=HKEY_LOCAL_MACHINE\\SOFTWARE\\Microsoft\\Speech\\Voices\\Tokens\\MSTTS_V110_idID_Andika\n",
      "          name=Microsoft Andika - Indonesian (Indonesia)\n",
      "          languages=[]\n",
      "          gender=None\n",
      "          age=None>\n",
      "<Voice id=HKEY_LOCAL_MACHINE\\SOFTWARE\\Microsoft\\Speech\\Voices\\Tokens\\TTS_MS_EN-US_ZIRA_11.0\n",
      "          name=Microsoft Zira Desktop - English (United States)\n",
      "          languages=[]\n",
      "          gender=None\n",
      "          age=None>\n"
     ]
    }
   ],
   "source": [
    "import pyttsx3\n",
    "engine = pyttsx3.init()\n",
    "for voice in engine.getProperty('voices'):\n",
    "    print(voice)"
   ]
  },
  {
   "cell_type": "code",
   "execution_count": 44,
   "id": "f632daf9",
   "metadata": {},
   "outputs": [],
   "source": [
    "import speech_recognition as sr\n",
    "import webbrowser\n",
    "import datetime, time\n",
    "import wikipedia\n",
    "import os\n",
    "\n",
    "def terimaPerintah():\n",
    "    \n",
    "    r = sr.Recognizer()\n",
    "    with sr.Microphone() as source:\n",
    "        print(\"Mendengarkan....\")\n",
    "        \n",
    "        r.pause_threshold = 0.9\n",
    "        audio = r.listen(source)\n",
    "        \n",
    "        try:\n",
    "            print(\"Mengenali....\")\n",
    "            \n",
    "            Query = r.recognize_google(audio, language='id')\n",
    "            print(\"Perintah Anda: \", Query)\n",
    "            \n",
    "        except Exception as e:\n",
    "            print(e)\n",
    "            print(\"Mohon Ulangi Lagi!\")\n",
    "            return \"none\"\n",
    "        \n",
    "        return Query"
   ]
  },
  {
   "cell_type": "code",
   "execution_count": 45,
   "id": "85a49429",
   "metadata": {},
   "outputs": [],
   "source": [
    "def bicara(audio):\n",
    "    engine = pyttsx3.init()\n",
    "    \n",
    "    voices = engine.getProperty('voices') # ambil suara\n",
    "    \n",
    "    engine.setProperty('voices', voices[1].id) # set voice menjadi bahasa indonesia\n",
    "    \n",
    "    engine.say(audio) # supaya bicara\n",
    "    \n",
    "    engine.runAndWait()\n",
    "    "
   ]
  },
  {
   "cell_type": "code",
   "execution_count": 46,
   "id": "1aae59c5",
   "metadata": {},
   "outputs": [],
   "source": [
    "def cekHari():\n",
    "    \n",
    "    day = datetime.datetime.today().weekday() + 1\n",
    "    day_dict = {1:'Senin', 2:'Selasa', 3:'Rabu', 4:'Kamis', 5:'Jumat', 6:'Sabtu', 7:'Minggu'} # List array hari\n",
    "    \n",
    "    if day in day_dict.keys():\n",
    "        hari_ini = day_dict[day]\n",
    "        print(hari_ini)\n",
    "        bicara(\"Hari ini adalah hari \"+ hari_ini)"
   ]
  },
  {
   "cell_type": "code",
   "execution_count": 47,
   "id": "0196b148",
   "metadata": {},
   "outputs": [],
   "source": [
    "def cekWaktu():\n",
    "    \n",
    "    time = str(datetime.datetime.now())\n",
    "    print(time)\n",
    "    # 2023-10-28 13:08:50.34234234\n",
    "    hour = time[11:13] # index + 1\n",
    "    minutes = time[14:16]\n",
    "    \n",
    "    bicara(\"Sekarang Pukul \"+hour+\"dan\"+minutes+\"menit\")"
   ]
  },
  {
   "cell_type": "code",
   "execution_count": 48,
   "id": "082d8114",
   "metadata": {},
   "outputs": [],
   "source": [
    "def halo():\n",
    "    bicara(\"Halo saya adalah Virtual Assistant kamu\")\n",
    "    print(\"Halo saya Virtual Assistant kamuu >~<\")"
   ]
  },
  {
   "cell_type": "code",
   "execution_count": 49,
   "id": "45ab865f",
   "metadata": {},
   "outputs": [
    {
     "name": "stdout",
     "output_type": "stream",
     "text": [
      "Halo saya Virtual Assistant kamuu >~<\n",
      "Mendengarkan....\n",
      "Mengenali....\n",
      "Perintah Anda:  Buka Instagram\n",
      "Mendengarkan....\n",
      "Mengenali....\n",
      "\n",
      "Mohon Ulangi Lagi!\n",
      "Mendengarkan....\n",
      "Mengenali....\n",
      "Perintah Anda:  cari di YouTube\n",
      "Mendengarkan....\n",
      "Mengenali....\n",
      "Perintah Anda:  Kamu kenal kami\n",
      "Mendengarkan....\n"
     ]
    },
    {
     "ename": "KeyboardInterrupt",
     "evalue": "",
     "output_type": "error",
     "traceback": [
      "\u001b[1;31m---------------------------------------------------------------------------\u001b[0m",
      "\u001b[1;31mKeyboardInterrupt\u001b[0m                         Traceback (most recent call last)",
      "Cell \u001b[1;32mIn[49], line 49\u001b[0m\n\u001b[0;32m     47\u001b[0m             \u001b[38;5;28;01mcontinue\u001b[39;00m\n\u001b[0;32m     48\u001b[0m \u001b[38;5;28;01mif\u001b[39;00m \u001b[38;5;18m__name__\u001b[39m \u001b[38;5;241m==\u001b[39m \u001b[38;5;124m'\u001b[39m\u001b[38;5;124m__main__\u001b[39m\u001b[38;5;124m'\u001b[39m:\n\u001b[1;32m---> 49\u001b[0m     jalankanVA()\n",
      "Cell \u001b[1;32mIn[49], line 7\u001b[0m, in \u001b[0;36mjalankanVA\u001b[1;34m()\u001b[0m\n\u001b[0;32m      3\u001b[0m halo()\n\u001b[0;32m      5\u001b[0m \u001b[38;5;28;01mwhile\u001b[39;00m(\u001b[38;5;28;01mTrue\u001b[39;00m):\n\u001b[1;32m----> 7\u001b[0m     query \u001b[38;5;241m=\u001b[39m terimaPerintah()\u001b[38;5;241m.\u001b[39mlower()\n\u001b[0;32m      8\u001b[0m     \u001b[38;5;28;01mif\u001b[39;00m \u001b[38;5;124m\"\u001b[39m\u001b[38;5;124mbuka google\u001b[39m\u001b[38;5;124m\"\u001b[39m \u001b[38;5;129;01min\u001b[39;00m query:\n\u001b[0;32m      9\u001b[0m         bicara(\u001b[38;5;124m\"\u001b[39m\u001b[38;5;124mBuka Google\u001b[39m\u001b[38;5;124m\"\u001b[39m)\n",
      "Cell \u001b[1;32mIn[44], line 14\u001b[0m, in \u001b[0;36mterimaPerintah\u001b[1;34m()\u001b[0m\n\u001b[0;32m     11\u001b[0m \u001b[38;5;28mprint\u001b[39m(\u001b[38;5;124m\"\u001b[39m\u001b[38;5;124mMendengarkan....\u001b[39m\u001b[38;5;124m\"\u001b[39m)\n\u001b[0;32m     13\u001b[0m r\u001b[38;5;241m.\u001b[39mpause_threshold \u001b[38;5;241m=\u001b[39m \u001b[38;5;241m0.9\u001b[39m\n\u001b[1;32m---> 14\u001b[0m audio \u001b[38;5;241m=\u001b[39m r\u001b[38;5;241m.\u001b[39mlisten(source)\n\u001b[0;32m     16\u001b[0m \u001b[38;5;28;01mtry\u001b[39;00m:\n\u001b[0;32m     17\u001b[0m     \u001b[38;5;28mprint\u001b[39m(\u001b[38;5;124m\"\u001b[39m\u001b[38;5;124mMengenali....\u001b[39m\u001b[38;5;124m\"\u001b[39m)\n",
      "File \u001b[1;32m~\\anaconda3\\Lib\\site-packages\\speech_recognition\\__init__.py:491\u001b[0m, in \u001b[0;36mRecognizer.listen\u001b[1;34m(self, source, timeout, phrase_time_limit, snowboy_configuration)\u001b[0m\n\u001b[0;32m    488\u001b[0m \u001b[38;5;28;01mif\u001b[39;00m timeout \u001b[38;5;129;01mand\u001b[39;00m elapsed_time \u001b[38;5;241m>\u001b[39m timeout:\n\u001b[0;32m    489\u001b[0m     \u001b[38;5;28;01mraise\u001b[39;00m WaitTimeoutError(\u001b[38;5;124m\"\u001b[39m\u001b[38;5;124mlistening timed out while waiting for phrase to start\u001b[39m\u001b[38;5;124m\"\u001b[39m)\n\u001b[1;32m--> 491\u001b[0m buffer \u001b[38;5;241m=\u001b[39m source\u001b[38;5;241m.\u001b[39mstream\u001b[38;5;241m.\u001b[39mread(source\u001b[38;5;241m.\u001b[39mCHUNK)\n\u001b[0;32m    492\u001b[0m \u001b[38;5;28;01mif\u001b[39;00m \u001b[38;5;28mlen\u001b[39m(buffer) \u001b[38;5;241m==\u001b[39m \u001b[38;5;241m0\u001b[39m: \u001b[38;5;28;01mbreak\u001b[39;00m  \u001b[38;5;66;03m# reached end of the stream\u001b[39;00m\n\u001b[0;32m    493\u001b[0m frames\u001b[38;5;241m.\u001b[39mappend(buffer)\n",
      "File \u001b[1;32m~\\anaconda3\\Lib\\site-packages\\speech_recognition\\__init__.py:199\u001b[0m, in \u001b[0;36mMicrophone.MicrophoneStream.read\u001b[1;34m(self, size)\u001b[0m\n\u001b[0;32m    198\u001b[0m \u001b[38;5;28;01mdef\u001b[39;00m \u001b[38;5;21mread\u001b[39m(\u001b[38;5;28mself\u001b[39m, size):\n\u001b[1;32m--> 199\u001b[0m     \u001b[38;5;28;01mreturn\u001b[39;00m \u001b[38;5;28mself\u001b[39m\u001b[38;5;241m.\u001b[39mpyaudio_stream\u001b[38;5;241m.\u001b[39mread(size, exception_on_overflow\u001b[38;5;241m=\u001b[39m\u001b[38;5;28;01mFalse\u001b[39;00m)\n",
      "File \u001b[1;32m~\\anaconda3\\Lib\\site-packages\\pyaudio\\__init__.py:570\u001b[0m, in \u001b[0;36mPyAudio.Stream.read\u001b[1;34m(self, num_frames, exception_on_overflow)\u001b[0m\n\u001b[0;32m    567\u001b[0m \u001b[38;5;28;01mif\u001b[39;00m \u001b[38;5;129;01mnot\u001b[39;00m \u001b[38;5;28mself\u001b[39m\u001b[38;5;241m.\u001b[39m_is_input:\n\u001b[0;32m    568\u001b[0m     \u001b[38;5;28;01mraise\u001b[39;00m \u001b[38;5;167;01mIOError\u001b[39;00m(\u001b[38;5;124m\"\u001b[39m\u001b[38;5;124mNot input stream\u001b[39m\u001b[38;5;124m\"\u001b[39m,\n\u001b[0;32m    569\u001b[0m                   paCanNotReadFromAnOutputOnlyStream)\n\u001b[1;32m--> 570\u001b[0m \u001b[38;5;28;01mreturn\u001b[39;00m pa\u001b[38;5;241m.\u001b[39mread_stream(\u001b[38;5;28mself\u001b[39m\u001b[38;5;241m.\u001b[39m_stream, num_frames,\n\u001b[0;32m    571\u001b[0m                       exception_on_overflow)\n",
      "\u001b[1;31mKeyboardInterrupt\u001b[0m: "
     ]
    }
   ],
   "source": [
    "def jalankanVA():\n",
    "    \n",
    "    halo()\n",
    "    \n",
    "    while(True):\n",
    "        \n",
    "        query = terimaPerintah().lower()\n",
    "        if \"buka google\" in query:\n",
    "            bicara(\"Buka Google\")\n",
    "            webbrowser.open(\"www.google.com\")\n",
    "            continue\n",
    "        elif \"sekarang hari apa\" in query:\n",
    "            cekHari()\n",
    "            continue\n",
    "        elif \"sekarang jam berapa\" in query:\n",
    "            cekWaktu()\n",
    "            continue\n",
    "        elif \"siapa anda\" in query:\n",
    "            bicara(\"Saya virtual assistant kamuu\")\n",
    "            continue\n",
    "        elif \"buka instagram\" in query:\n",
    "            bicara(\"Buka Instagram\")\n",
    "            webbrowser.open(\"www.instagram.com\")\n",
    "            continue\n",
    "        elif \"buka situs kuliah\" in query:\n",
    "            bicara(\"Buka situs kuliah\")\n",
    "            webbrowser.open(\"https://kuliah.uajy.ac.id/my/\")\n",
    "            continue\n",
    "        elif \"cari di youtube\" in query:\n",
    "            bicara(\"cari di youtube\")\n",
    "            query = query.replace(\"cari di youtube\", \"\")\n",
    "            url = \"https://www.youtube.com/watch?v=dQw4w9WgXcQ\"+query\n",
    "            webbrowser.open(url)\n",
    "            continue\n",
    "        elif \"buka powerpoint\" in query:\n",
    "            bicara(\"membuka power point\")\n",
    "            ppt = r\"C:\\Program Files\\Microsoft Office\\root\\Office16\\POWERPNT.EXE\"\n",
    "            os.startfile(ppt)\n",
    "            continue\n",
    "        elif \"saya mau coding\" in query:\n",
    "            bicara(\"membuka dev c\")\n",
    "            devC = r\"C:\\Program Files (x86)\\Embarcadero\\Dev-Cpp\\devcpp.exe\"\n",
    "            os.startfile(devC)\n",
    "            continue\n",
    "        else:\n",
    "            bicara(\"tidak terdengar\")\n",
    "            continue\n",
    "if __name__ == '__main__':\n",
    "    jalankanVA()"
   ]
  },
  {
   "cell_type": "code",
   "execution_count": null,
   "id": "2236eed6",
   "metadata": {},
   "outputs": [],
   "source": []
  }
 ],
 "metadata": {
  "kernelspec": {
   "display_name": "Python 3 (ipykernel)",
   "language": "python",
   "name": "python3"
  },
  "language_info": {
   "codemirror_mode": {
    "name": "ipython",
    "version": 3
   },
   "file_extension": ".py",
   "mimetype": "text/x-python",
   "name": "python",
   "nbconvert_exporter": "python",
   "pygments_lexer": "ipython3",
   "version": "3.11.4"
  }
 },
 "nbformat": 4,
 "nbformat_minor": 5
}
